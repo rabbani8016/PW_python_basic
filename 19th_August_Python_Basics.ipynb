{
 "cells": [
  {
   "cell_type": "markdown",
   "id": "c9136c86-9ad9-49d3-9ac1-56d9d04c9e68",
   "metadata": {},
   "source": [
    "1. Declare two variables, `x` and `y`, and assign them integer values. Swap the\n",
    "values of these variables without using any temporary variable.\n"
   ]
  },
  {
   "cell_type": "code",
   "execution_count": 1,
   "id": "2761de6c-fbf2-49bd-ab30-2ae0774ece15",
   "metadata": {},
   "outputs": [],
   "source": [
    "x = 6\n",
    "y = 9"
   ]
  },
  {
   "cell_type": "code",
   "execution_count": 2,
   "id": "f803a425-aa32-495a-ad39-ba0e8d900d62",
   "metadata": {},
   "outputs": [
    {
     "name": "stdout",
     "output_type": "stream",
     "text": [
      "6 + 9 = 15\n",
      "15 - 9 =  6\n"
     ]
    }
   ],
   "source": [
    "# Swap values without using a temporary variable\n",
    "x = x + y \n",
    "print('6 + 9 =',x)\n",
    "y = x - y\n",
    "print('15 - 9 = ',y)"
   ]
  },
  {
   "cell_type": "markdown",
   "id": "8400a457-2ab8-42fa-8fe1-df3aeb718b05",
   "metadata": {},
   "source": [
    "2. Create a program that calculates the area of a rectangle. Take the length and\n",
    "width as inputs from the user and store them in variables. Calculate and\n",
    "display the area.\n"
   ]
  },
  {
   "cell_type": "code",
   "execution_count": 7,
   "id": "3566c3a4-c05d-4732-a185-3cb51a502396",
   "metadata": {},
   "outputs": [
    {
     "name": "stdin",
     "output_type": "stream",
     "text": [
      "enter the value of length : 2\n",
      "enter the value of width : 3\n"
     ]
    },
    {
     "name": "stdout",
     "output_type": "stream",
     "text": [
      "area of rectangle : 6\n"
     ]
    }
   ],
   "source": [
    "length = int(input(\"enter the value of length :\"))\n",
    "width = int(input(\"enter the value of width :\"))\n",
    "\n",
    "area = length * width\n",
    "print(\"area of rectangle :\", area)"
   ]
  },
  {
   "cell_type": "markdown",
   "id": "ac53f785-da5f-4059-b881-aa3500df98b4",
   "metadata": {},
   "source": [
    "3. Write a Python program that converts temperatures from Celsius to\n",
    "Fahrenheit. Take the temperature in Celsius as input, store it in a variable,\n",
    "convert it to Fahrenheit, and display the result"
   ]
  },
  {
   "cell_type": "code",
   "execution_count": 14,
   "id": "c08d517c-7761-4a2b-9118-a02ea1b786c3",
   "metadata": {},
   "outputs": [
    {
     "name": "stdin",
     "output_type": "stream",
     "text": [
      "enter the value of celsius: 38\n"
     ]
    },
    {
     "name": "stdout",
     "output_type": "stream",
     "text": [
      "100.4 Fahrenhite\n"
     ]
    }
   ],
   "source": [
    "Cel = int(input('enter the value of celsius:'))\n",
    "\n",
    "F = (Cel * 9/5 + 32)\n",
    "print(F,\"Fahrenhite\")"
   ]
  },
  {
   "cell_type": "markdown",
   "id": "ede48590-b476-473d-99d7-e04380da5253",
   "metadata": {},
   "source": [
    "# TOPIC: String Based Questions"
   ]
  },
  {
   "cell_type": "markdown",
   "id": "73255428-02dc-4090-a659-9efa92616afb",
   "metadata": {},
   "source": [
    "1. Write a Python program that takes a string as input and prints the length of\n",
    "the string."
   ]
  },
  {
   "cell_type": "code",
   "execution_count": 17,
   "id": "ba782d72-b544-48eb-908f-f949b557bcd6",
   "metadata": {},
   "outputs": [
    {
     "name": "stdin",
     "output_type": "stream",
     "text": [
      "enter any thing  bnzxcv\n"
     ]
    },
    {
     "name": "stdout",
     "output_type": "stream",
     "text": [
      "lenth of the str1: 6\n"
     ]
    }
   ],
   "source": [
    "str1 = input(\"enter any thing \")\n",
    "print(\"lenth of the str1:\", len(str1))"
   ]
  },
  {
   "cell_type": "markdown",
   "id": "8a5272dc-b8f8-4aee-a14b-bb3dabac532a",
   "metadata": {},
   "source": [
    "2. Create a program that takes a sentence from the user and counts the number\n",
    "of vowels (a, e, i, o, u) in the string.\n"
   ]
  },
  {
   "cell_type": "code",
   "execution_count": 30,
   "id": "5ee3e1f2-2a35-46d3-8ebd-5224e0361c68",
   "metadata": {},
   "outputs": [
    {
     "name": "stdin",
     "output_type": "stream",
     "text": [
      "enter any sentence : asdfreta\n"
     ]
    },
    {
     "name": "stdout",
     "output_type": "stream",
     "text": [
      "Print a: 2\n",
      "Print e: 1\n",
      "Print i: 0\n",
      "Print o: 0\n",
      "Print u: 0\n"
     ]
    }
   ],
   "source": [
    "str2 = input(\"enter any sentence :\")\n",
    "\n",
    "print('Print a:', str2.count('a'))\n",
    "print('Print e:', str2.count('e'))      \n",
    "print('Print i:', str2.count('i'))\n",
    "print('Print o:', str2.count('o'))\n",
    "print('Print u:', str2.count('u'))"
   ]
  },
  {
   "cell_type": "markdown",
   "id": "edc8aa18-400a-4ffc-84d5-e5441ba42899",
   "metadata": {},
   "source": [
    "3. Given a string, reverse the order of characters using string slicing and print\n",
    "the reversed string."
   ]
  },
  {
   "cell_type": "code",
   "execution_count": 31,
   "id": "db8070ed-0aab-4dff-93a6-fba43d4dff0a",
   "metadata": {},
   "outputs": [
    {
     "name": "stdin",
     "output_type": "stream",
     "text": [
      "enter any sentence: asdfgserfts\n"
     ]
    },
    {
     "name": "stdout",
     "output_type": "stream",
     "text": [
      "reverse value of str3: stfresgfdsa\n"
     ]
    }
   ],
   "source": [
    "str3 = input(\"enter any sentence:\")\n",
    "rev = str3[::-1]\n",
    "print(\"reverse value of str3:\", rev)"
   ]
  },
  {
   "cell_type": "markdown",
   "id": "656956c6-2b3b-490c-9aad-180210d79eee",
   "metadata": {},
   "source": [
    "4. Write a program that takes a string as input and checks if it is a palindrome\n",
    "(reads the same forwards and backwards).\n"
   ]
  },
  {
   "cell_type": "code",
   "execution_count": 7,
   "id": "1e76e7e2-3ea2-4500-951d-0882b884fbaa",
   "metadata": {},
   "outputs": [
    {
     "name": "stdin",
     "output_type": "stream",
     "text": [
      "enter any string value: coc\n"
     ]
    },
    {
     "name": "stdout",
     "output_type": "stream",
     "text": [
      "coc is palindrome\n"
     ]
    }
   ],
   "source": [
    "str11 = input('enter any string value:')\n",
    "\n",
    "rev = str11[::-1]\n",
    "\n",
    "for i in range(len(str11)):\n",
    "    if str11[i] != rev[i]:\n",
    "        print(str11 ,'is not palindrom')\n",
    "        break\n",
    "else:\n",
    "    print(str11,'is palindrome')\n"
   ]
  },
  {
   "cell_type": "markdown",
   "id": "c358c620-f774-4003-86fc-1c7292f240e9",
   "metadata": {},
   "source": [
    "5. Create a program that takes a string as input and removes all the spaces from\n",
    "it. Print the modified string without spaces"
   ]
  },
  {
   "cell_type": "code",
   "execution_count": 9,
   "id": "986df810-b7c3-4197-a496-698f3bc80162",
   "metadata": {},
   "outputs": [
    {
     "name": "stdin",
     "output_type": "stream",
     "text": [
      "enter string value : dfg   asdfa \n"
     ]
    },
    {
     "name": "stdout",
     "output_type": "stream",
     "text": [
      "remove space: dfgasdfa\n"
     ]
    }
   ],
   "source": [
    "str12 = input('enter string value :')\n",
    "\n",
    "space = str12.replace(' ','')\n",
    "print('remove space:',space)"
   ]
  },
  {
   "cell_type": "code",
   "execution_count": null,
   "id": "6b55a23a-1853-462f-8aa0-73b1b9e035a8",
   "metadata": {},
   "outputs": [],
   "source": []
  },
  {
   "cell_type": "code",
   "execution_count": null,
   "id": "5020844c-31dc-4038-a0f1-bf9c4bbaf45c",
   "metadata": {},
   "outputs": [],
   "source": []
  }
 ],
 "metadata": {
  "kernelspec": {
   "display_name": "Python 3 (ipykernel)",
   "language": "python",
   "name": "python3"
  },
  "language_info": {
   "codemirror_mode": {
    "name": "ipython",
    "version": 3
   },
   "file_extension": ".py",
   "mimetype": "text/x-python",
   "name": "python",
   "nbconvert_exporter": "python",
   "pygments_lexer": "ipython3",
   "version": "3.10.8"
  }
 },
 "nbformat": 4,
 "nbformat_minor": 5
}
